{
 "cells": [
  {
   "cell_type": "markdown",
   "metadata": {},
   "source": [
    "# BPE Tokenizer\n",
    "\n",
    "Pada kode ini, ditunjukkan contoh penggunaan BPE Tokenizer buatan HuggingFace. [Petunjuk instalasi package](https://huggingface.co/docs/tokenizers/installation)"
   ]
  },
  {
   "cell_type": "code",
   "execution_count": 56,
   "metadata": {},
   "outputs": [],
   "source": [
    "# Import semua packages yang diperlukan.\n",
    "from tokenizers import Tokenizer\n",
    "from tokenizers.models import BPE\n",
    "from tokenizers.trainers import BpeTrainer\n",
    "from tokenizers.pre_tokenizers import Whitespace"
   ]
  },
  {
   "cell_type": "code",
   "execution_count": 57,
   "metadata": {},
   "outputs": [],
   "source": [
    "# Instantiate tokenizer BPE dengan unknown token [UNK] (berguna \n",
    "# saat testing jika menemukan misalnya karakter yang tidak dikenali).\n",
    "tokenizer = Tokenizer(BPE(unk_token=\"[UNK]\"))"
   ]
  },
  {
   "cell_type": "code",
   "execution_count": 58,
   "metadata": {},
   "outputs": [],
   "source": [
    "# Instantiate trainer BPE, PERHATIKAN hyperparameter vocab_size yang konsepnya\n",
    "# mirip dengan `num_of_merges` yang diajarkan di kelas (relasinya kurang lebih \n",
    "# num_of_merges = vocab_size - num_of_alphabet).\n",
    "trainer = BpeTrainer(\n",
    "    vocab_size=100,  # Perbesar/perkecil dan lihat bedanya pada hasil tokenisasi\n",
    "    special_tokens=[\"[UNK]\", \"[CLS]\", \"[SEP]\", \"[PAD]\", \"[MASK]\"],\n",
    ")"
   ]
  },
  {
   "cell_type": "code",
   "execution_count": 59,
   "metadata": {},
   "outputs": [],
   "source": [
    "# Menambahkan pre-tokenizer yang berfungsi untuk memecah tiap kalimat/dokumen\n",
    "# menjadi individual words berdasarkan keberadaan whitespace.\n",
    "tokenizer.pre_tokenizer = Whitespace()"
   ]
  },
  {
   "cell_type": "code",
   "execution_count": 60,
   "metadata": {},
   "outputs": [],
   "source": [
    "# Melatih tokenizer dengan corpus.\n",
    "tokenizer.train(\n",
    "    files=[\"idwiki_index.txt\"],\n",
    "    trainer=trainer\n",
    ")"
   ]
  },
  {
   "cell_type": "code",
   "execution_count": 61,
   "metadata": {},
   "outputs": [
    {
     "data": {
      "text/plain": [
       "['A', 'z', 'h', 'ar', 'M', 'an', 's', 'o', 'r']"
      ]
     },
     "execution_count": 61,
     "metadata": {},
     "output_type": "execute_result"
    }
   ],
   "source": [
    "# Contoh melakukan tokenisasi suatu kalimat\n",
    "tokenizer.encode('Azhar Mansor').tokens"
   ]
  }
 ],
 "metadata": {
  "kernelspec": {
   "display_name": "base",
   "language": "python",
   "name": "python3"
  },
  "language_info": {
   "codemirror_mode": {
    "name": "ipython",
    "version": 3
   },
   "file_extension": ".py",
   "mimetype": "text/x-python",
   "name": "python",
   "nbconvert_exporter": "python",
   "pygments_lexer": "ipython3",
   "version": "3.10.9"
  },
  "orig_nbformat": 4
 },
 "nbformat": 4,
 "nbformat_minor": 2
}
