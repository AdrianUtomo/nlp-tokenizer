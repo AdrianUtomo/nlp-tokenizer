{
 "cells": [
  {
   "cell_type": "markdown",
   "metadata": {},
   "source": [
    "# BPE Tokenizer\n",
    "\n",
    "Pada kode ini, ditunjukkan contoh penggunaan BPE Tokenizer buatan HuggingFace. [Petunjuk instalasi package](https://huggingface.co/docs/tokenizers/installation)"
   ]
  },
  {
   "cell_type": "code",
   "execution_count": 112,
   "metadata": {},
   "outputs": [],
   "source": [
    "# Import semua packages yang diperlukan.\n",
    "from tokenizers import Tokenizer\n",
    "from tokenizers.models import BPE\n",
    "from tokenizers.trainers import BpeTrainer\n",
    "from tokenizers.pre_tokenizers import Whitespace"
   ]
  },
  {
   "cell_type": "code",
   "execution_count": 113,
   "metadata": {},
   "outputs": [],
   "source": [
    "# Instantiate tokenizer BPE dengan unknown token [UNK] (berguna \n",
    "# saat testing jika menemukan misalnya karakter yang tidak dikenali).\n",
    "tokenizer = Tokenizer(BPE(unk_token=\"[UNK]\"))"
   ]
  },
  {
   "cell_type": "code",
   "execution_count": 114,
   "metadata": {},
   "outputs": [],
   "source": [
    "# Instantiate trainer BPE, PERHATIKAN hyperparameter vocab_size yang konsepnya\n",
    "# mirip dengan `num_of_merges` yang diajarkan di kelas (relasinya kurang lebih \n",
    "# num_of_merges = vocab_size - num_of_alphabet).\n",
    "trainer = BpeTrainer(\n",
    "    vocab_size=10000,  # Perbesar/perkecil dan lihat bedanya pada hasil tokenisasi\n",
    "    special_tokens=[\"[UNK]\", \"[CLS]\", \"[SEP]\", \"[PAD]\", \"[MASK]\"],\n",
    ")"
   ]
  },
  {
   "cell_type": "code",
   "execution_count": 115,
   "metadata": {},
   "outputs": [],
   "source": [
    "# Menambahkan pre-tokenizer yang berfungsi untuk memecah tiap kalimat/dokumen\n",
    "# menjadi individual words berdasarkan keberadaan whitespace.\n",
    "tokenizer.pre_tokenizer = Whitespace()"
   ]
  },
  {
   "cell_type": "code",
   "execution_count": 116,
   "metadata": {},
   "outputs": [],
   "source": [
    "# Mengekstrak kalimat-kalimat korpus ke dataset tersendiri sesuai spesifikasi\n",
    "# input dari package tokenizer, yaitu file berisi raw text (tanpa hasil tokenisasi)\n",
    "with open('train.txt', 'r') as train, open('train_text_only.txt', 'w') as out:\n",
    "    lines = train.readlines()\n",
    "    for line in lines:\n",
    "        if line.startswith('# text ='):\n",
    "            out.write(line[9:])"
   ]
  },
  {
   "cell_type": "code",
   "execution_count": 117,
   "metadata": {},
   "outputs": [],
   "source": [
    "# Melatih tokenizer dengan corpus.\n",
    "tokenizer.train(\n",
    "    files=[\"train_text_only.txt\"],\n",
    "    trainer=trainer\n",
    ")"
   ]
  },
  {
   "cell_type": "code",
   "execution_count": 118,
   "metadata": {},
   "outputs": [
    {
     "name": "stdout",
     "output_type": "stream",
     "text": [
      "['Namun', 'dana', 'tersebut', 'baru', 'terp', 'ak', 'ai', '16', '8', 'juta', 'dolar', 'AS', '.']\n"
     ]
    }
   ],
   "source": [
    "# Contoh melakukan tokenisasi suatu kalimat\n",
    "print(tokenizer.encode('Namun dana tersebut baru terpakai 168 juta dolar AS.').tokens)"
   ]
  }
 ],
 "metadata": {
  "kernelspec": {
   "display_name": "base",
   "language": "python",
   "name": "python3"
  },
  "language_info": {
   "codemirror_mode": {
    "name": "ipython",
    "version": 3
   },
   "file_extension": ".py",
   "mimetype": "text/x-python",
   "name": "python",
   "nbconvert_exporter": "python",
   "pygments_lexer": "ipython3",
   "version": "3.10.2"
  },
  "orig_nbformat": 4
 },
 "nbformat": 4,
 "nbformat_minor": 2
}
