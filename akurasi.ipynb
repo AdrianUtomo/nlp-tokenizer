{
 "cells": [
  {
   "cell_type": "code",
   "execution_count": 21,
   "metadata": {},
   "outputs": [],
   "source": [
    "# Define function to calculate accuracy of tokenizer result\n",
    "def accuracy(tokenizer_result, gold_standard):\n",
    "  gold_standard_count = len(gold_standard)\n",
    "  accurate_tokens_count = 0\n",
    "  for i in range(len(tokenizer_result)):\n",
    "    if tokenizer_result[i] in gold_standard:\n",
    "      accurate_tokens_count += 1\n",
    "\n",
    "  return accurate_tokens_count / gold_standard_count\n"
   ]
  },
  {
   "cell_type": "code",
   "execution_count": 22,
   "metadata": {},
   "outputs": [
    {
     "name": "stdout",
     "output_type": "stream",
     "text": [
      "Accuracy of tokenizer result:  0.6\n"
     ]
    }
   ],
   "source": [
    "# Call function to calculate accuracy of tokenizer result\n",
    "gold_standard = []\n",
    "tokenizer_result = []\n",
    "print(\"Accuracy of tokenizer result: \", accuracy(tokenizer_result, gold_standard))"
   ]
  }
 ],
 "metadata": {
  "kernelspec": {
   "display_name": "venv",
   "language": "python",
   "name": "python3"
  },
  "language_info": {
   "codemirror_mode": {
    "name": "ipython",
    "version": 3
   },
   "file_extension": ".py",
   "mimetype": "text/x-python",
   "name": "python",
   "nbconvert_exporter": "python",
   "pygments_lexer": "ipython3",
   "version": "3.10.2"
  },
  "orig_nbformat": 4
 },
 "nbformat": 4,
 "nbformat_minor": 2
}
