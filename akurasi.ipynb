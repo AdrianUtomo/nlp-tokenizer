{
 "cells": [
  {
   "cell_type": "code",
   "execution_count": 6,
   "metadata": {},
   "outputs": [],
   "source": [
    "# Define function to calculate accuracy of tokenizer result\n",
    "# def accuracy(tokenizer_result, test_corpus):\n",
    "  # accuracy_list = []\n",
    "  # corpus_list = []\n",
    "  # with open(test_corpus, 'r') as f:\n",
    "  #   for line in f.readlines():\n",
    "  #     line = line.strip()\n",
    "  #     if line.startswith('# text ='):\n",
    "  #       if corpus_list:\n",
    "  #         accurate_tokens_count = 0\n",
    "  #         for i in range(len(tokenizer_result)):\n",
    "  #           if tokenizer_result[i] in corpus_list:\n",
    "  #             accurate_tokens_count += 1\n",
    "  #         accuracy_list.append(accurate_tokens_count / len(corpus_list))\n",
    "  #       corpus_list.clear()\n",
    "  #       continue\n",
    "  #     corpus_list.append(line)\n",
    "  #   for i in range(len(tokenizer_result)):\n",
    "  #     if tokenizer_result[i] in corpus_list:\n",
    "  #       accurate_tokens_count += 1\n",
    "  #   accuracy_list.append(accurate_tokens_count / len(corpus_list))\n",
    "  #   corpus_list.clear()\n",
    "  #   return sum(accuracy_list) / len(accuracy_list)\n",
    "  \n",
    "  # accurate_tokens_count = 0\n",
    "  # with open(test_corpus, 'r') as f:\n",
    "  #   corpus_list = []\n",
    "  #   for line in f.readlines():\n",
    "  #     line = line.strip()\n",
    "  #     if line.startswith('# text ='):\n",
    "  #       continue\n",
    "  #     corpus_list.append(line)\n",
    "  # for i in range (len(tokenizer_result)):\n",
    "  #   if tokenizer_result[i] in corpus_list:\n",
    "  #     accurate_tokens_count += 1\n",
    "  # return accurate_tokens_count / len(corpus_list)\n",
    "def accuracy(tokenizer_result, gold_standard):\n",
    "  gold_standard_count = len(gold_standard)\n",
    "  accurate_tokens_count = 0\n",
    "  for i in range(len(tokenizer_result)):\n",
    "    if tokenizer_result[i] in gold_standard:\n",
    "      accurate_tokens_count += 1\n",
    "\n",
    "  return accurate_tokens_count / gold_standard_count\n"
   ]
  },
  {
   "cell_type": "code",
   "execution_count": 7,
   "metadata": {},
   "outputs": [
    {
     "name": "stdout",
     "output_type": "stream",
     "text": [
      "Accuracy of tokenizer result:  0.5\n"
     ]
    }
   ],
   "source": [
    "# Call function to calculate accuracy of tokenizer result\n",
    "gold_standard = ['Beberapa', 'laporan', 'menyebutkan', 'setidaknya', '10', 'monyet', 'ditempatkan', 'di', 'luar', 'arena', 'lomba', 'dan', 'pertandingan', 'di', 'ibukota', 'India', '.' ,'Namun', 'dana', 'tersebut', 'baru', 'terp', 'ak', 'ai', '16', '8', 'juta', 'dolar', 'AS', '.' ]\n",
    "tokenizer_result = ['Beb', '##er', '##ap', '##a', 'laporan', 'menyebutk', '##a', '##n', 'setidakny', '##a', '10', 'monyet', 'dite', '##mp', '##a', '##tk', '##a', '##n', 'di', 'luar', 'ar', '##e', '##n', '##a', 'lo', '##mb', '##a', 'd', '##a', '##n', 'pertand', '##ing', '##a', '##n', 'di', 'i', '##bu', '##ko', '##t', '##a', 'India', '.', 'Namun', 'd', '##a', '##n', '##a', 'tersebut', 'baru', 'terpak', '##a', '##i', '16', '##8', 'juta', 'dol', '##a', '##r', 'AS', '.' ]\n",
    "print(\"Accuracy of tokenizer result: \", accuracy(tokenizer_result, gold_standard))"
   ]
  }
 ],
 "metadata": {
  "kernelspec": {
   "display_name": "venv",
   "language": "python",
   "name": "python3"
  },
  "language_info": {
   "codemirror_mode": {
    "name": "ipython",
    "version": 3
   },
   "file_extension": ".py",
   "mimetype": "text/x-python",
   "name": "python",
   "nbconvert_exporter": "python",
   "pygments_lexer": "ipython3",
   "version": "3.10.0"
  },
  "orig_nbformat": 4
 },
 "nbformat": 4,
 "nbformat_minor": 2
}
